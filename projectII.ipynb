{
  "nbformat": 4,
  "nbformat_minor": 0,
  "metadata": {
    "colab": {
      "name": "projectII.ipynb",
      "provenance": [],
      "collapsed_sections": []
    },
    "kernelspec": {
      "name": "python3",
      "display_name": "Python 3"
    },
    "accelerator": "GPU"
  },
  "cells": [
    {
      "cell_type": "code",
      "metadata": {
        "id": "WpsSzRJMc8ST"
      },
      "source": [
        "import numpy as np\n",
        "import keras\n",
        "from keras import models\n",
        "import matplotlib.pyplot as plt\n",
        "from keras.preprocessing import image\n",
        "from keras.preprocessing.image import ImageDataGenerator\n",
        "from keras.models import Model\n",
        "from keras.models import Sequential\n",
        "from keras.optimizers import Adam\n",
        "from keras.optimizers import RMSprop\n",
        "from keras import layers\n",
        "from keras.layers import Dense, Dropout, Flatten, Conv2D, MaxPool2D\n",
        "from keras import Input\n",
        "from keras.datasets import mnist\n",
        "from keras.utils.np_utils import to_categorical\n",
        "from tensorflow.keras.layers import Dense, Dropout, Flatten, Conv2D, MaxPooling2D, BatchNormalization"
      ],
      "execution_count": 27,
      "outputs": []
    },
    {
      "cell_type": "code",
      "metadata": {
        "id": "stvJDpl6dGr_"
      },
      "source": [
        "(X_train, Y_train), (X_val, Y_val) = mnist.load_data()\n",
        "x_test,y_test=X_val[:5000],Y_val[:5000]\n",
        "x_val,y_val=X_val[5000:10000],Y_val[5000:10000]"
      ],
      "execution_count": 145,
      "outputs": []
    },
    {
      "cell_type": "code",
      "metadata": {
        "colab": {
          "base_uri": "https://localhost:8080/"
        },
        "id": "yC4DWUTUjSp8",
        "outputId": "79bdb6d3-edf0-44ad-9a6c-d8b5c42f12dd"
      },
      "source": [
        "x_test.shape"
      ],
      "execution_count": 146,
      "outputs": [
        {
          "output_type": "execute_result",
          "data": {
            "text/plain": [
              "(5000, 28, 28)"
            ]
          },
          "metadata": {
            "tags": []
          },
          "execution_count": 146
        }
      ]
    },
    {
      "cell_type": "code",
      "metadata": {
        "colab": {
          "base_uri": "https://localhost:8080/",
          "height": 282
        },
        "id": "dhSbLe0OdIWh",
        "outputId": "58cec2d5-d795-4ec1-9114-0e8b63f17713"
      },
      "source": [
        "plt.imshow(X_train[1])"
      ],
      "execution_count": 147,
      "outputs": [
        {
          "output_type": "execute_result",
          "data": {
            "text/plain": [
              "<matplotlib.image.AxesImage at 0x7f1d6c27e748>"
            ]
          },
          "metadata": {
            "tags": []
          },
          "execution_count": 147
        },
        {
          "output_type": "display_data",
          "data": {
            "image/png": "[encoded data removed]",
            "text/plain": [
              "<Figure size 432x288 with 1 Axes>"
            ]
          },
          "metadata": {
            "tags": [],
            "needs_background": "light"
          }
        }
      ]
    },
    {
      "cell_type": "code",
      "metadata": {
        "colab": {
          "base_uri": "https://localhost:8080/",
          "height": 321
        },
        "id": "Pb_boJvsdJ3n",
        "outputId": "8d224530-2f0b-4e94-f199-fe472fc29247"
      },
      "source": [
        "import seaborn as sns\n",
        "plt.figure(figsize=(8,4))\n",
        "sns.countplot(Y_train)\n",
        "plt.show()"
      ],
      "execution_count": 148,
      "outputs": [
        {
          "output_type": "stream",
          "text": [
            "/usr/local/lib/python3.6/dist-packages/seaborn/_decorators.py:43: FutureWarning: Pass the following variable as a keyword arg: x. From version 0.12, the only valid positional argument will be `data`, and passing other arguments without an explicit keyword will result in an error or misinterpretation.\n",
            "  FutureWarning\n"
          ],
          "name": "stderr"
        },
        {
          "output_type": "display_data",
          "data": {
            "image/png": "[encoded data removed]",
            "text/plain": [
              "<Figure size 576x288 with 1 Axes>"
            ]
          },
          "metadata": {
            "tags": [],
            "needs_background": "light"
          }
        }
      ]
    },
    {
      "cell_type": "code",
      "metadata": {
        "colab": {
          "base_uri": "https://localhost:8080/"
        },
        "id": "QTG3hDTSfoTm",
        "outputId": "be5e044a-498a-417c-ba34-9295d1aa95b5"
      },
      "source": [
        "X_train = X_train/255\n",
        "x_test = x_test/255\n",
        "\n",
        "print(X_train.shape, ', ', x_test.shape)"
      ],
      "execution_count": 149,
      "outputs": [
        {
          "output_type": "stream",
          "text": [
            "(60000, 28, 28) ,  (5000, 28, 28)\n"
          ],
          "name": "stdout"
        }
      ]
    },
    {
      "cell_type": "code",
      "metadata": {
        "colab": {
          "base_uri": "https://localhost:8080/"
        },
        "id": "f_zI7uvMdL4a",
        "outputId": "c5257f8c-96aa-4df8-ecbe-71ce7f03f5c5"
      },
      "source": [
        "X_train = X_train.reshape(-1, 28, 28, 1)\n",
        "x_val = x_val.reshape(-1, 28, 28, 1)\n",
        "\n",
        "X_train = X_train.astype('float32')\n",
        "x_val = x_val.astype('float32')\n",
        "x_test = x_test.reshape(-1, 28, 28, 1)\n",
        "\n",
        "print(X_train.shape,', ',x_val.shape,', ', x_test.shape)"
      ],
      "execution_count": 150,
      "outputs": [
        {
          "output_type": "stream",
          "text": [
            "(60000, 28, 28, 1) ,  (5000, 28, 28, 1) ,  (5000, 28, 28, 1)\n"
          ],
          "name": "stdout"
        }
      ]
    },
    {
      "cell_type": "code",
      "metadata": {
        "id": "Vf3CjKoNeW_y"
      },
      "source": [
        "Y_train = to_categorical(Y_train, num_classes = 10)\n",
        "\n",
        "#X_train, X_val, Y_train, Y_val = train_test_split(X_train, Y_train, test_size = 0.1, \n",
        "#                                                  random_state = random_seed)\n",
        "y_val = to_categorical(y_val, num_classes = 10)\n",
        "# y_test = to_categorical(y_val, num_classes = 10)"
      ],
      "execution_count": 151,
      "outputs": []
    },
    {
      "cell_type": "code",
      "metadata": {
        "colab": {
          "base_uri": "https://localhost:8080/"
        },
        "id": "Qy9on1Juovt-",
        "outputId": "54372d00-61e7-4102-a0ca-e7217ef35159"
      },
      "source": [
        "y_test=to_categorical(y_test, num_classes = 10)\n",
        "y_test.shape"
      ],
      "execution_count": 152,
      "outputs": [
        {
          "output_type": "execute_result",
          "data": {
            "text/plain": [
              "(5000, 10)"
            ]
          },
          "metadata": {
            "tags": []
          },
          "execution_count": 152
        }
      ]
    },
    {
      "cell_type": "code",
      "metadata": {
        "id": "hWWi1pBfde90"
      },
      "source": [
        "model = Sequential()\n",
        "\n",
        "model.add(Conv2D(filters = 32, kernel_size = (5, 5), padding = \"Same\", activation = \"relu\",\n",
        "                 kernel_initializer = 'he_uniform', input_shape = (28, 28, 1)))\n",
        "model.add(Conv2D(filters = 32, kernel_size = (5, 5), padding = \"Same\", activation = \"relu\",\n",
        "                kernel_initializer = 'he_uniform'))\n",
        "model.add(MaxPooling2D(pool_size = (2, 2)))\n",
        "model.add(Dropout(0.25))\n",
        "\n",
        "model.add(Conv2D(filters = 64, kernel_size = (3, 3), padding = \"Same\", activation = \"relu\",\n",
        "                kernel_initializer = 'he_uniform'))\n",
        "model.add(Conv2D(filters = 64, kernel_size = (3, 3), padding = \"Same\", activation = \"relu\",\n",
        "                kernel_initializer = 'he_uniform'))\n",
        "model.add(MaxPooling2D(pool_size = (2, 2), strides = (2, 2)))\n",
        "model.add(Dropout(0.25))\n",
        "\n",
        "model.add(Flatten())\n",
        "model.add(Dense(256, activation=\"relu\", kernel_initializer = 'he_uniform'))\n",
        "model.add(Dropout(0.5))\n",
        "\n",
        "model.add(Dense(units = 10, activation=\"softmax\", kernel_initializer = 'he_uniform'))"
      ],
      "execution_count": 104,
      "outputs": []
    },
    {
      "cell_type": "code",
      "metadata": {
        "id": "_-1PqYhIeHuU"
      },
      "source": [
        "optimizer = RMSprop(lr = 0.001, rho = 0.9, epsilon = 1e-08, decay = 0.0)\n",
        "model.compile(optimizer = optimizer , loss = 'categorical_crossentropy', metrics = ['accuracy'])"
      ],
      "execution_count": 105,
      "outputs": []
    },
    {
      "cell_type": "code",
      "metadata": {
        "colab": {
          "base_uri": "https://localhost:8080/"
        },
        "id": "bdwb7DkueUlB",
        "outputId": "717b453f-0716-4344-dffd-3697f64540f1"
      },
      "source": [
        "model.summary()"
      ],
      "execution_count": 106,
      "outputs": [
        {
          "output_type": "stream",
          "text": [
            "Model: \"sequential_5\"\n",
            "_________________________________________________________________\n",
            "Layer (type)                 Output Shape              Param #   \n",
            "=================================================================\n",
            "conv2d_16 (Conv2D)           (None, 28, 28, 32)        832       \n",
            "_________________________________________________________________\n",
            "conv2d_17 (Conv2D)           (None, 28, 28, 32)        25632     \n",
            "_________________________________________________________________\n",
            "max_pooling2d_6 (MaxPooling2 (None, 14, 14, 32)        0         \n",
            "_________________________________________________________________\n",
            "dropout_9 (Dropout)          (None, 14, 14, 32)        0         \n",
            "_________________________________________________________________\n",
            "conv2d_18 (Conv2D)           (None, 14, 14, 64)        18496     \n",
            "_________________________________________________________________\n",
            "conv2d_19 (Conv2D)           (None, 14, 14, 64)        36928     \n",
            "_________________________________________________________________\n",
            "max_pooling2d_7 (MaxPooling2 (None, 7, 7, 64)          0         \n",
            "_________________________________________________________________\n",
            "dropout_10 (Dropout)         (None, 7, 7, 64)          0         \n",
            "_________________________________________________________________\n",
            "flatten_3 (Flatten)          (None, 3136)              0         \n",
            "_________________________________________________________________\n",
            "dense_6 (Dense)              (None, 256)               803072    \n",
            "_________________________________________________________________\n",
            "dropout_11 (Dropout)         (None, 256)               0         \n",
            "_________________________________________________________________\n",
            "dense_7 (Dense)              (None, 10)                2570      \n",
            "=================================================================\n",
            "Total params: 887,530\n",
            "Trainable params: 887,530\n",
            "Non-trainable params: 0\n",
            "_________________________________________________________________\n"
          ],
          "name": "stdout"
        }
      ]
    },
    {
      "cell_type": "code",
      "metadata": {
        "id": "L1WXL6DDkAlW"
      },
      "source": [
        "datagen = ImageDataGenerator(\n",
        "        featurewise_center=False,  # set input mean to 0 over the dataset\n",
        "        samplewise_center=False,  # set each sample mean to 0\n",
        "        featurewise_std_normalization=False,  # divide inputs by std of the dataset\n",
        "        samplewise_std_normalization=False,  # divide each input by its std\n",
        "        zca_whitening=False,  # apply ZCA whitening\n",
        "        rotation_range=10,  # randomly rotate images in the range (degrees, 0 to 180)\n",
        "        zoom_range = 0.1, # Randomly zoom image \n",
        "        width_shift_range=0.1,  # randomly shift images horizontally (fraction of total width)\n",
        "        height_shift_range=0.1,  # randomly shift images vertically (fraction of total height)\n",
        "        horizontal_flip=False,  # randomly flip images\n",
        "        vertical_flip=False)  # randomly flip images\n",
        "\n",
        "datagen.fit(X_train)"
      ],
      "execution_count": 107,
      "outputs": []
    },
    {
      "cell_type": "code",
      "metadata": {
        "colab": {
          "base_uri": "https://localhost:8080/"
        },
        "id": "oSoEe5JPkGbj",
        "outputId": "98514271-182c-464f-c4eb-04f8b0e825c3"
      },
      "source": [
        "batch_size = 128\n",
        "epochs = 12\n",
        "history = model.fit_generator(datagen.flow(X_train,Y_train, batch_size = batch_size),\n",
        "                              epochs = epochs, validation_data = datagen.flow(x_val,y_val, batch_size = batch_size),\n",
        "                              steps_per_epoch = X_train.shape[0] // batch_size,shuffle=True\n",
        "                          )"
      ],
      "execution_count": 108,
      "outputs": [
        {
          "output_type": "stream",
          "text": [
            "/usr/local/lib/python3.6/dist-packages/tensorflow/python/keras/engine/training.py:1844: UserWarning: `Model.fit_generator` is deprecated and will be removed in a future version. Please use `Model.fit`, which supports generators.\n",
            "  warnings.warn('`Model.fit_generator` is deprecated and '\n"
          ],
          "name": "stderr"
        },
        {
          "output_type": "stream",
          "text": [
            "Epoch 1/12\n",
            "468/468 [==============================] - 19s 39ms/step - loss: 0.8421 - accuracy: 0.7279 - val_loss: 6.9210 - val_accuracy: 0.9860\n",
            "Epoch 2/12\n",
            "468/468 [==============================] - 18s 38ms/step - loss: 0.1159 - accuracy: 0.9651 - val_loss: 2.6303 - val_accuracy: 0.9928\n",
            "Epoch 3/12\n",
            "468/468 [==============================] - 18s 39ms/step - loss: 0.0884 - accuracy: 0.9753 - val_loss: 3.4272 - val_accuracy: 0.9932\n",
            "Epoch 4/12\n",
            "468/468 [==============================] - 18s 38ms/step - loss: 0.0710 - accuracy: 0.9784 - val_loss: 2.3927 - val_accuracy: 0.9948\n",
            "Epoch 5/12\n",
            "468/468 [==============================] - 18s 38ms/step - loss: 0.0704 - accuracy: 0.9797 - val_loss: 3.6239 - val_accuracy: 0.9930\n",
            "Epoch 6/12\n",
            "468/468 [==============================] - 18s 38ms/step - loss: 0.0621 - accuracy: 0.9811 - val_loss: 2.9809 - val_accuracy: 0.9938\n",
            "Epoch 7/12\n",
            "468/468 [==============================] - 18s 39ms/step - loss: 0.0609 - accuracy: 0.9832 - val_loss: 8.5571 - val_accuracy: 0.9896\n",
            "Epoch 8/12\n",
            "468/468 [==============================] - 18s 39ms/step - loss: 0.0588 - accuracy: 0.9835 - val_loss: 6.1302 - val_accuracy: 0.9906\n",
            "Epoch 9/12\n",
            "468/468 [==============================] - 18s 39ms/step - loss: 0.0612 - accuracy: 0.9830 - val_loss: 4.9751 - val_accuracy: 0.9940\n",
            "Epoch 10/12\n",
            "468/468 [==============================] - 18s 39ms/step - loss: 0.0573 - accuracy: 0.9838 - val_loss: 16.0421 - val_accuracy: 0.9802\n",
            "Epoch 11/12\n",
            "468/468 [==============================] - 18s 39ms/step - loss: 0.0605 - accuracy: 0.9837 - val_loss: 26.5149 - val_accuracy: 0.9790\n",
            "Epoch 12/12\n",
            "468/468 [==============================] - 18s 39ms/step - loss: 0.0543 - accuracy: 0.9847 - val_loss: 38.8210 - val_accuracy: 0.9626\n"
          ],
          "name": "stdout"
        }
      ]
    },
    {
      "cell_type": "code",
      "metadata": {
        "colab": {
          "base_uri": "https://localhost:8080/"
        },
        "id": "hsD5AUqYkI71",
        "outputId": "bdfea39f-b39c-46a7-bb44-a4f866204da2"
      },
      "source": [
        "model.evaluate(x_test,y_test,verbose=0)"
      ],
      "execution_count": 172,
      "outputs": [
        {
          "output_type": "execute_result",
          "data": {
            "text/plain": [
              "[0.023916445672512054, 0.9927999973297119]"
            ]
          },
          "metadata": {
            "tags": []
          },
          "execution_count": 172
        }
      ]
    },
    {
      "cell_type": "code",
      "metadata": {
        "colab": {
          "base_uri": "https://localhost:8080/",
          "height": 285
        },
        "id": "716x5Z0HlZnJ",
        "outputId": "c8117c4e-9364-48ab-c052-7a5ec8e0a60f"
      },
      "source": [
        "fig, ax = plt.subplots(2, 1)\n",
        "ax[0].plot(history.history[\"loss\"], color=\"b\", label=\"Training loss\")\n",
        "ax[0].plot(history.history[\"val_loss\"], color=\"g\", label=\"validation loss\", axes=ax[0])\n",
        "ax[0].legend(loc=\"best\", shadow=True)\n",
        "\n",
        "ax[1].plot(history.history[\"accuracy\"], color=\"b\", label=\"Training accuracy\")\n",
        "ax[1].plot(history.history[\"val_accuracy\"], color=\"g\", label=\"Validation accuracy\")\n",
        "ax[1].legend(loc=\"best\", shadow=True)"
      ],
      "execution_count": 110,
      "outputs": [
        {
          "output_type": "execute_result",
          "data": {
            "text/plain": [
              "<matplotlib.legend.Legend at 0x7f1d70aae390>"
            ]
          },
          "metadata": {
            "tags": []
          },
          "execution_count": 110
        },
        {
          "output_type": "display_data",
          "data": {
            "image/png": "[encoded data removed]",
            "text/plain": [
              "<Figure size 432x288 with 2 Axes>"
            ]
          },
          "metadata": {
            "tags": [],
            "needs_background": "light"
          }
        }
      ]
    },
    {
      "cell_type": "code",
      "metadata": {
        "id": "vQmbXnasnH7j"
      },
      "source": [
        "x_test_90=np.array(np.zeros((5000,28,28,1)),dtype=float)\n",
        "for i in range(5000):\n",
        "  x_test_90[i]=np.rot90(x_test[i])"
      ],
      "execution_count": 164,
      "outputs": []
    },
    {
      "cell_type": "code",
      "metadata": {
        "colab": {
          "base_uri": "https://localhost:8080/",
          "height": 282
        },
        "id": "gOPFeIjlry9L",
        "outputId": "2590df6c-b005-4fce-abb5-5ecdbbfb25ad"
      },
      "source": [
        "plt.imshow(x_test_90[0].reshape(28,28))"
      ],
      "execution_count": 165,
      "outputs": [
        {
          "output_type": "execute_result",
          "data": {
            "text/plain": [
              "<matplotlib.image.AxesImage at 0x7f1d6c77b6d8>"
            ]
          },
          "metadata": {
            "tags": []
          },
          "execution_count": 165
        },
        {
          "output_type": "display_data",
          "data": {
            "image/png": "[encoded data removed]",
            "text/plain": [
              "<Figure size 432x288 with 1 Axes>"
            ]
          },
          "metadata": {
            "tags": [],
            "needs_background": "light"
          }
        }
      ]
    },
    {
      "cell_type": "code",
      "metadata": {
        "id": "MaXvavN0sYTS"
      },
      "source": [
        "x_test_180=np.array(np.zeros((5000,28,28,1)),dtype=float)\n",
        "for i in range(5000):\n",
        "  x_test_180[i]=np.rot90(x_test_90[i])"
      ],
      "execution_count": 166,
      "outputs": []
    },
    {
      "cell_type": "code",
      "metadata": {
        "colab": {
          "base_uri": "https://localhost:8080/",
          "height": 282
        },
        "id": "auBHzdP2uxt5",
        "outputId": "1824b5ca-28fc-456b-d9c8-6d2984aa3d0c"
      },
      "source": [
        "plt.imshow(x_test_180[0].reshape(28,28))"
      ],
      "execution_count": 167,
      "outputs": [
        {
          "output_type": "execute_result",
          "data": {
            "text/plain": [
              "<matplotlib.image.AxesImage at 0x7f1d6ca5cd30>"
            ]
          },
          "metadata": {
            "tags": []
          },
          "execution_count": 167
        },
        {
          "output_type": "display_data",
          "data": {
            "image/png": "[encoded data removed]",
            "text/plain": [
              "<Figure size 432x288 with 1 Axes>"
            ]
          },
          "metadata": {
            "tags": [],
            "needs_background": "light"
          }
        }
      ]
    },
    {
      "cell_type": "code",
      "metadata": {
        "id": "FwgeNvwFuzhM"
      },
      "source": [
        "x_test_270=np.array(np.zeros((5000,28,28,1)),dtype=float)\n",
        "for i in range(5000):\n",
        "  x_test_270[i]=np.rot90(x_test_180[i])"
      ],
      "execution_count": 168,
      "outputs": []
    },
    {
      "cell_type": "code",
      "metadata": {
        "colab": {
          "base_uri": "https://localhost:8080/",
          "height": 282
        },
        "id": "KCf-_1-cu62F",
        "outputId": "88561875-3e1c-41ad-c3e8-01a960514be6"
      },
      "source": [
        "plt.imshow(x_test_270[0].reshape(28,28))"
      ],
      "execution_count": 169,
      "outputs": [
        {
          "output_type": "execute_result",
          "data": {
            "text/plain": [
              "<matplotlib.image.AxesImage at 0x7f1dba078748>"
            ]
          },
          "metadata": {
            "tags": []
          },
          "execution_count": 169
        },
        {
          "output_type": "display_data",
          "data": {
            "image/png": "[encoded data removed]",
            "text/plain": [
              "<Figure size 432x288 with 1 Axes>"
            ]
          },
          "metadata": {
            "tags": [],
            "needs_background": "light"
          }
        }
      ]
    },
    {
      "cell_type": "code",
      "metadata": {
        "id": "gBhqJmrRu85H"
      },
      "source": [
        "prob_90=model.predict(x_test_90)\n",
        "prob_180=model.predict(x_test_180)\n",
        "prob_270=model.predict(x_test_270)"
      ],
      "execution_count": 214,
      "outputs": []
    },
    {
      "cell_type": "code",
      "metadata": {
        "id": "AKa2wFtOvLfX"
      },
      "source": [
        "original=x=model.predict(x_test)"
      ],
      "execution_count": 215,
      "outputs": []
    },
    {
      "cell_type": "code",
      "metadata": {
        "colab": {
          "base_uri": "https://localhost:8080/",
          "height": 282
        },
        "id": "a60c2sB9vPUn",
        "outputId": "2f62002d-ac2a-4bd7-a075-b0eb8d92ad67"
      },
      "source": [
        "plt.imshow(x_test[0].reshape(28,28))"
      ],
      "execution_count": 216,
      "outputs": [
        {
          "output_type": "execute_result",
          "data": {
            "text/plain": [
              "<matplotlib.image.AxesImage at 0x7f1d6be7ba58>"
            ]
          },
          "metadata": {
            "tags": []
          },
          "execution_count": 216
        },
        {
          "output_type": "display_data",
          "data": {
            "image/png": "[encoded data removed]",
            "text/plain": [
              "<Figure size 432x288 with 1 Axes>"
            ]
          },
          "metadata": {
            "tags": [],
            "needs_background": "light"
          }
        }
      ]
    },
    {
      "cell_type": "code",
      "metadata": {
        "id": "nKmp_DI7wjwY"
      },
      "source": [
        "\n",
        "for i in range(10):\n",
        "  if(max<x[5][i]):\n",
        "    max=x[5][i]\n",
        "    pos=i"
      ],
      "execution_count": 212,
      "outputs": []
    },
    {
      "cell_type": "code",
      "metadata": {
        "id": "LKhMsuOcw-P3"
      },
      "source": [
        "results=np.array(np.zeros((5000,10)),dtype=float)\n",
        "count=0\n",
        "for i in range(5000):\n",
        "  max1=-100\n",
        "  pos1=-1\n",
        "  for j in range(10):\n",
        "    if(max1<prob_90[i][j]):\n",
        "      max1=prob_90[i][j]\n",
        "      pos1=i\n",
        "  max2=-100\n",
        "  pos2=-1\n",
        "  for j in range(10):\n",
        "    if(max2<prob_180[i][j]):\n",
        "      ma2=prob_180[i][j]\n",
        "      po2=i\n",
        "  max3=-100\n",
        "  pos3=-1\n",
        "  for j in range(10):\n",
        "    if(max3<prob_270[i][j]):\n",
        "      max3=prob_270[i][j]\n",
        "      pos3=i\n",
        "  max=-100\n",
        "  pos=-1\n",
        "  for j in range(10):\n",
        "    if(max<original[i][j]):\n",
        "      max=original[i][j]\n",
        "      pos=i\n",
        "  if(max>max1 and max>max2 and max>max3):\n",
        "    pass\n",
        "  else:\n",
        "    count+=1"
      ],
      "execution_count": 218,
      "outputs": []
    },
    {
      "cell_type": "code",
      "metadata": {
        "colab": {
          "base_uri": "https://localhost:8080/"
        },
        "id": "LaB--y_Mx8-D",
        "outputId": "e88d69a8-dee3-40d9-fbae-cae0ad8b19db"
      },
      "source": [
        "count"
      ],
      "execution_count": 219,
      "outputs": [
        {
          "output_type": "execute_result",
          "data": {
            "text/plain": [
              "644"
            ]
          },
          "metadata": {
            "tags": []
          },
          "execution_count": 219
        }
      ]
    },
    {
      "cell_type": "code",
      "metadata": {
        "colab": {
          "base_uri": "https://localhost:8080/"
        },
        "id": "7TqHpEIL1iYc",
        "outputId": "06a25f52-0e7e-49a0-f9a8-56a6d1b8cc87"
      },
      "source": [
        "1-count/5000"
      ],
      "execution_count": 221,
      "outputs": [
        {
          "output_type": "execute_result",
          "data": {
            "text/plain": [
              "0.8712"
            ]
          },
          "metadata": {
            "tags": []
          },
          "execution_count": 221
        }
      ]
    }
  ]
}